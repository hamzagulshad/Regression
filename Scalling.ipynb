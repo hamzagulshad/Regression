{
  "nbformat": 4,
  "nbformat_minor": 0,
  "metadata": {
    "colab": {
      "provenance": [],
      "authorship_tag": "ABX9TyMPbwx+DFvkGEXbrsvPdYtD",
      "include_colab_link": true
    },
    "kernelspec": {
      "name": "python3",
      "display_name": "Python 3"
    },
    "language_info": {
      "name": "python"
    }
  },
  "cells": [
    {
      "cell_type": "markdown",
      "metadata": {
        "id": "view-in-github",
        "colab_type": "text"
      },
      "source": [
        "<a href=\"https://colab.research.google.com/github/hamzagulshad/regreeasion/blob/main/Scalling.ipynb\" target=\"_parent\"><img src=\"https://colab.research.google.com/assets/colab-badge.svg\" alt=\"Open In Colab\"/></a>"
      ]
    },
    {
      "cell_type": "markdown",
      "source": [
        "<h1>Scallling </h1>\n",
        "<p>if data is scattered we follow other techniques for data pre prepartion,if data is not in scalling form some model not work like KNN,SVM</p>\n",
        "<ul>\n",
        "<li>scalling<ul><li>Standard Scaler(its value is between -3 to 3)</li>\n",
        "<li>Min-max Scaler</li>\n",
        "<li>Robust Scaler</li>\n",
        "<li>MaxAbs Scaler</li>\n",
        "<li>Quantile Transformer</li>\n",
        "<li>Robust Scaler</li>\n",
        "<li>MaxAbs Scaler</li>\n",
        "<li>Binarizer</li>\n",
        "</ul></li>\n",
        "<li>Normilizer</li>\n",
        "<li>Outlaier remover</li>\n",
        "</ul>"
      ],
      "metadata": {
        "id": "5XXhAGuTiB0o"
      }
    },
    {
      "cell_type": "markdown",
      "source": [],
      "metadata": {
        "id": "YI88UceMqr1z"
      }
    },
    {
      "cell_type": "code",
      "execution_count": 2,
      "metadata": {
        "id": "WOgRyKY9h_4G"
      },
      "outputs": [],
      "source": [
        "#standaerd scaler\n",
        "import pandas as pd\n",
        "import numpy as np"
      ]
    },
    {
      "cell_type": "code",
      "source": [
        "df=pd.read_csv('/content/Crop Responses.csv')"
      ],
      "metadata": {
        "id": "HImo15o2lvO6"
      },
      "execution_count": 3,
      "outputs": []
    },
    {
      "cell_type": "code",
      "source": [
        "x=x=df[['Y','PT','R','NAR','DF','DM','SH','NT','NP','GY']]\n",
        "y=df[['Biomass']]"
      ],
      "metadata": {
        "id": "sQKKl8DamW8I"
      },
      "execution_count": 4,
      "outputs": []
    },
    {
      "cell_type": "code",
      "source": [
        "from sklearn.model_selection import train_test_split\n",
        "from sklearn.preprocessing import StandardScaler\n",
        "xtrain,xtest,ytrain,ytest=train_test_split(x,y,test_size=0.2,random_state=40)\n",
        "scaler=StandardScaler()\n",
        "xtrain_scaled=scaler.fit_transform(xtrain)\n",
        "xtest_scaled=scaler.transform(xtest)"
      ],
      "metadata": {
        "id": "7cgxExocnCCZ"
      },
      "execution_count": 5,
      "outputs": []
    },
    {
      "cell_type": "code",
      "source": [
        "print(\"x training\",xtrain.min(),\"-\",xtrain.max())\n",
        "print(\"xscaled (standard scaler):\",xtrain_scaled.min(),\"-\",xtest_scaled.max())"
      ],
      "metadata": {
        "colab": {
          "base_uri": "https://localhost:8080/"
        },
        "id": "qT5ht4qepHJh",
        "outputId": "e16464dd-5510-40e7-ccda-4279cfa2d581"
      },
      "execution_count": 6,
      "outputs": [
        {
          "output_type": "stream",
          "name": "stdout",
          "text": [
            "x training Y         1.0\n",
            "PT        1.0\n",
            "R         1.0\n",
            "NAR       1.0\n",
            "DF      107.0\n",
            "DM      129.0\n",
            "SH      100.0\n",
            "NT      169.0\n",
            "NP      160.0\n",
            "GY     1843.3\n",
            "dtype: float64 - Y         2.00\n",
            "PT        3.00\n",
            "R         3.00\n",
            "NAR       4.00\n",
            "DF      122.00\n",
            "DM      155.00\n",
            "SH      154.00\n",
            "NT      493.00\n",
            "NP      480.00\n",
            "GY     5339.54\n",
            "dtype: float64\n",
            "xscaled (standard scaler): -1.8281990673362636 - 2.5611185474608225\n"
          ]
        }
      ]
    },
    {
      "cell_type": "markdown",
      "source": [
        "min-max scaleing:\n"
      ],
      "metadata": {
        "id": "8ShiQMUDF4dY"
      }
    },
    {
      "cell_type": "code",
      "source": [
        "from sklearn.model_selection import train_test_split\n",
        "from sklearn.preprocessing import MinMaxScaler"
      ],
      "metadata": {
        "id": "OTMl27mAGcCw"
      },
      "execution_count": 7,
      "outputs": []
    },
    {
      "cell_type": "code",
      "source": [
        "x=x=df[['Y','PT','R','NAR','DF','DM','SH','NT','NP','GY']]\n",
        "y=df[['Biomass']]\n",
        "xtrain,xtest,ytrain,ytest=train_test_split(x,y,test_size=0.2,random_state=40)\n",
        "scaler=MinMaxScaler()\n",
        "xtrain_scaled=scaler.fit_transform(xtrain)\n",
        "xtest_scaled=scaler.transform(xtest)"
      ],
      "metadata": {
        "id": "54ip7k5NGJaO"
      },
      "execution_count": 8,
      "outputs": []
    },
    {
      "cell_type": "code",
      "source": [
        "print(\"x training\",xtrain.min(),\"-\",xtrain.max())\n",
        "print(\"xscaled (standard scaler):\",xtrain_scaled.min(),\"-\",xtest_scaled.max())"
      ],
      "metadata": {
        "colab": {
          "base_uri": "https://localhost:8080/"
        },
        "id": "Fs3rRL_8GONk",
        "outputId": "ee65a274-4966-4f66-fce6-b6a9ffff7d05"
      },
      "execution_count": 9,
      "outputs": [
        {
          "output_type": "stream",
          "name": "stdout",
          "text": [
            "x training Y         1.0\n",
            "PT        1.0\n",
            "R         1.0\n",
            "NAR       1.0\n",
            "DF      107.0\n",
            "DM      129.0\n",
            "SH      100.0\n",
            "NT      169.0\n",
            "NP      160.0\n",
            "GY     1843.3\n",
            "dtype: float64 - Y         2.00\n",
            "PT        3.00\n",
            "R         3.00\n",
            "NAR       4.00\n",
            "DF      122.00\n",
            "DM      155.00\n",
            "SH      154.00\n",
            "NT      493.00\n",
            "NP      480.00\n",
            "GY     5339.54\n",
            "dtype: float64\n",
            "xscaled (standard scaler): 0.0 - 1.0\n"
          ]
        }
      ]
    },
    {
      "cell_type": "code",
      "source": [
        "#max absluote scaler use when data is not normilizer and contain outliers\n",
        "\n",
        "from sklearn.preprocessing import MaxAbsScaler\n",
        "x=x=df[['Y','PT','R','NAR','DF','DM','SH','NT','NP','GY']]\n",
        "y=df[['Biomass']]\n",
        "xtrain,xtest,ytrain,ytest=train_test_split(x,y,test_size=0.2,random_state=40)\n",
        "scaler=MaxAbsScaler()\n",
        "xtrain_scaled=scaler.fit_transform(xtrain)\n",
        "xtest_scaled=scaler.transform(xtest)\n"
      ],
      "metadata": {
        "id": "7lid076cHLQC"
      },
      "execution_count": 10,
      "outputs": []
    },
    {
      "cell_type": "code",
      "source": [
        "print(\"x training\",xtrain.min(),\"-\",xtrain.max())\n",
        "print(\"xscaled (standard scaler):\",xtrain_scaled.min(),\"-\",xtest_scaled.max())"
      ],
      "metadata": {
        "colab": {
          "base_uri": "https://localhost:8080/"
        },
        "id": "k2BWW0iFJMqa",
        "outputId": "7e75f3ea-91a0-46a2-b37d-fcdd36adabf7"
      },
      "execution_count": 11,
      "outputs": [
        {
          "output_type": "stream",
          "name": "stdout",
          "text": [
            "x training Y         1.0\n",
            "PT        1.0\n",
            "R         1.0\n",
            "NAR       1.0\n",
            "DF      107.0\n",
            "DM      129.0\n",
            "SH      100.0\n",
            "NT      169.0\n",
            "NP      160.0\n",
            "GY     1843.3\n",
            "dtype: float64 - Y         2.00\n",
            "PT        3.00\n",
            "R         3.00\n",
            "NAR       4.00\n",
            "DF      122.00\n",
            "DM      155.00\n",
            "SH      154.00\n",
            "NT      493.00\n",
            "NP      480.00\n",
            "GY     5339.54\n",
            "dtype: float64\n",
            "xscaled (standard scaler): 0.25 - 1.0\n"
          ]
        }
      ]
    },
    {
      "cell_type": "code",
      "source": [
        "#Quantile transformtion it is useful for non_linear transformation\n",
        "from sklearn.preprocessing import QuantileTransformer\n",
        "scaler=QuantileTransformer(output_distribution='normal') #output can be normal\n",
        "xtrain_scaled=scaler.fit_transform(xtrain)\n",
        "xtest_scaled=scaler.transform(xtest)\n"
      ],
      "metadata": {
        "colab": {
          "base_uri": "https://localhost:8080/"
        },
        "id": "oL0ANDOtJaC6",
        "outputId": "83f1de27-57a4-40d2-f911-f152d7e27fa2"
      },
      "execution_count": 13,
      "outputs": [
        {
          "output_type": "stream",
          "name": "stderr",
          "text": [
            "/usr/local/lib/python3.10/dist-packages/sklearn/preprocessing/_data.py:2627: UserWarning: n_quantiles (1000) is greater than the total number of samples (57). n_quantiles is set to n_samples.\n",
            "  warnings.warn(\n"
          ]
        }
      ]
    },
    {
      "cell_type": "code",
      "source": [
        "print(\"x training\",xtrain.min(),\"-\",xtrain.max())\n",
        "print(\"xscaled (standard scaler):\",xtrain_scaled.min(),\"-\",xtest_scaled.max())"
      ],
      "metadata": {
        "colab": {
          "base_uri": "https://localhost:8080/"
        },
        "id": "0NxXBJDCKqdy",
        "outputId": "f81b41de-4602-44ba-e1a4-dfbb2d614c4d"
      },
      "execution_count": 14,
      "outputs": [
        {
          "output_type": "stream",
          "name": "stdout",
          "text": [
            "x training Y         1.0\n",
            "PT        1.0\n",
            "R         1.0\n",
            "NAR       1.0\n",
            "DF      107.0\n",
            "DM      129.0\n",
            "SH      100.0\n",
            "NT      169.0\n",
            "NP      160.0\n",
            "GY     1843.3\n",
            "dtype: float64 - Y         2.00\n",
            "PT        3.00\n",
            "R         3.00\n",
            "NAR       4.00\n",
            "DF      122.00\n",
            "DM      155.00\n",
            "SH      154.00\n",
            "NT      493.00\n",
            "NP      480.00\n",
            "GY     5339.54\n",
            "dtype: float64\n",
            "xscaled (standard scaler): -5.199337582605575 - 5.19933758270342\n"
          ]
        }
      ]
    },
    {
      "cell_type": "code",
      "source": [
        "#power transformer\n",
        "from sklearn.preprocessing import PowerTransformer\n",
        "scaler=PowerTransformer(method='yeo-johnson') #other method is Box-Cox Transformation\n",
        "xtrain_scaled=scaler.fit_transform(xtrain)\n",
        "xtest_scaled=scaler.transform(xtest)\n"
      ],
      "metadata": {
        "id": "-F8vJdYrMxdH"
      },
      "execution_count": 16,
      "outputs": []
    },
    {
      "cell_type": "code",
      "source": [
        "print(\"x training\",xtrain.min(),\"-\",xtrain.max())\n",
        "print(\"xscaled (standard scaler):\",xtrain_scaled.min(),\"-\",xtest_scaled.max())"
      ],
      "metadata": {
        "colab": {
          "base_uri": "https://localhost:8080/"
        },
        "id": "WfJ0KzD_ODq5",
        "outputId": "2481269c-0d30-48ba-dff1-2eb1c6cde1c9"
      },
      "execution_count": 17,
      "outputs": [
        {
          "output_type": "stream",
          "name": "stdout",
          "text": [
            "x training Y         1.0\n",
            "PT        1.0\n",
            "R         1.0\n",
            "NAR       1.0\n",
            "DF      107.0\n",
            "DM      129.0\n",
            "SH      100.0\n",
            "NT      169.0\n",
            "NP      160.0\n",
            "GY     1843.3\n",
            "dtype: float64 - Y         2.00\n",
            "PT        3.00\n",
            "R         3.00\n",
            "NAR       4.00\n",
            "DF      122.00\n",
            "DM      155.00\n",
            "SH      154.00\n",
            "NT      493.00\n",
            "NP      480.00\n",
            "GY     5339.54\n",
            "dtype: float64\n",
            "xscaled (standard scaler): -1.8780971209900332 - 1.7813777199279666\n"
          ]
        }
      ]
    },
    {
      "cell_type": "code",
      "source": [
        "#normalizer can be useful for lots of zeros, neural networks,distance meausrment like knn\n",
        "from sklearn.preprocessing import Normalizer\n",
        "scaler=Normalizer() #other method is Box-Cox Transformation\n",
        "xtrain_scaled=scaler.fit_transform(xtrain)\n",
        "xtest_scaled=scaler.transform(xtest)"
      ],
      "metadata": {
        "id": "h0xIiBurQ5FV"
      },
      "execution_count": 18,
      "outputs": []
    },
    {
      "cell_type": "code",
      "source": [
        "print(\"x training\",xtrain.min(),\"-\",xtrain.max())\n",
        "print(\"xscaled (standard scaler):\",xtrain_scaled.min(),\"-\",xtest_scaled.max())"
      ],
      "metadata": {
        "colab": {
          "base_uri": "https://localhost:8080/"
        },
        "id": "mHLznqB2Rr9B",
        "outputId": "206ceadd-08d3-4426-d797-3cb4849a67f1"
      },
      "execution_count": 19,
      "outputs": [
        {
          "output_type": "stream",
          "name": "stdout",
          "text": [
            "x training Y         1.0\n",
            "PT        1.0\n",
            "R         1.0\n",
            "NAR       1.0\n",
            "DF      107.0\n",
            "DM      129.0\n",
            "SH      100.0\n",
            "NT      169.0\n",
            "NP      160.0\n",
            "GY     1843.3\n",
            "dtype: float64 - Y         2.00\n",
            "PT        3.00\n",
            "R         3.00\n",
            "NAR       4.00\n",
            "DF      122.00\n",
            "DM      155.00\n",
            "SH      154.00\n",
            "NT      493.00\n",
            "NP      480.00\n",
            "GY     5339.54\n",
            "dtype: float64\n",
            "xscaled (standard scaler): 0.00018557334009371016 - 0.9890421684430442\n"
          ]
        }
      ]
    },
    {
      "cell_type": "code",
      "source": [
        "#binarizer\n",
        "from sklearn.preprocessing import Binarizer\n",
        "scaler=Binarizer(threshold=0.5) #other method is Box-Cox Transformation\n",
        "xtrain_scaled=scaler.fit_transform(xtrain)\n",
        "xtest_scaled=scaler.transform(xtest)"
      ],
      "metadata": {
        "id": "1qUq6hrgRwoi"
      },
      "execution_count": 20,
      "outputs": []
    },
    {
      "cell_type": "code",
      "source": [
        "print(\"x training\",xtrain.min(),\"-\",xtrain.max())\n",
        "print(\"xscaled (standard scaler):\",xtrain_scaled.min(),\"-\",xtest_scaled.max())"
      ],
      "metadata": {
        "colab": {
          "base_uri": "https://localhost:8080/"
        },
        "id": "Gq4QfRyjSXI4",
        "outputId": "b211313c-9ccf-4e63-82a4-29a119d1fe0c"
      },
      "execution_count": 21,
      "outputs": [
        {
          "output_type": "stream",
          "name": "stdout",
          "text": [
            "x training Y         1.0\n",
            "PT        1.0\n",
            "R         1.0\n",
            "NAR       1.0\n",
            "DF      107.0\n",
            "DM      129.0\n",
            "SH      100.0\n",
            "NT      169.0\n",
            "NP      160.0\n",
            "GY     1843.3\n",
            "dtype: float64 - Y         2.00\n",
            "PT        3.00\n",
            "R         3.00\n",
            "NAR       4.00\n",
            "DF      122.00\n",
            "DM      155.00\n",
            "SH      154.00\n",
            "NT      493.00\n",
            "NP      480.00\n",
            "GY     5339.54\n",
            "dtype: float64\n",
            "xscaled (standard scaler): 1.0 - 1.0\n"
          ]
        }
      ]
    }
  ]
}